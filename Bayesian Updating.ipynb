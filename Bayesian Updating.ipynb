{
 "cells": [
  {
   "cell_type": "code",
   "execution_count": 170,
   "metadata": {},
   "outputs": [],
   "source": [
    "from scipy.stats import bernoulli, truncnorm\n",
    "import matplotlib.pyplot as plt\n",
    "import numpy as np\n",
    "import random"
   ]
  },
  {
   "cell_type": "markdown",
   "metadata": {},
   "source": [
    "## Discrete Priors\n",
    "\n",
    "We have an experiment, that is there are five coins in a draw and we select one at random. We then hypothesise that we have selected A, B or C. The prior probability is the probability of selecting each coin. We then toss the coin and record the result. Our likelihood is the probability of getting the outcome for each hypothesis."
   ]
  },
  {
   "cell_type": "code",
   "execution_count": 171,
   "metadata": {},
   "outputs": [],
   "source": [
    "# Priors. 5 coins in draw: 2 * A, 2 * B, 1 * C.\n",
    "pA = 0.4\n",
    "pB = 0.4\n",
    "pC = 0.2"
   ]
  },
  {
   "cell_type": "code",
   "execution_count": 172,
   "metadata": {},
   "outputs": [],
   "source": [
    "# Perform an experiment, select a coin. Our hypotheses are that we have picked A, B and C. That is, our theta value\n",
    "# is 0.6, 0.7 or 0.9. We know the prior probability of each hypothesis being true:\n",
    "pA = 0.4\n",
    "pB = 0.4\n",
    "pC = 0.2"
   ]
  },
  {
   "cell_type": "code",
   "execution_count": 173,
   "metadata": {},
   "outputs": [],
   "source": [
    "def bayes_update_discrete(pA, pB, pC, x):\n",
    "    \"\"\"Performs one Bayesian update.\n",
    "    \"\"\"\n",
    "    # Get likelihoods.\n",
    "    if x == 0:\n",
    "        lA = 1 - pH_A\n",
    "        lB = 1 - pH_B\n",
    "        lC = 1 - pH_C\n",
    "    elif x == 1:\n",
    "        lA = pH_A\n",
    "        lB = pH_B\n",
    "        lC = pH_C\n",
    "    \n",
    "    # Get numerators.\n",
    "    nA = lA * pA\n",
    "    nB = lB * pB\n",
    "    nC = lC * pC\n",
    "    \n",
    "    # Get total.\n",
    "    total = nA + nB + nC\n",
    "    \n",
    "    # Return posteriors.\n",
    "    postA = nA / total\n",
    "    postB = nB / total\n",
    "    postC = nC / total\n",
    "    \n",
    "    return postA, postB, postC"
   ]
  },
  {
   "cell_type": "code",
   "execution_count": 174,
   "metadata": {},
   "outputs": [
    {
     "name": "stdout",
     "output_type": "stream",
     "text": [
      "A: 0.10\n",
      "B: 0.90\n",
      "C: 0.00\n"
     ]
    }
   ],
   "source": [
    "# Set initial prior.\n",
    "prA, prB, prC = pA, pB, pC\n",
    "\n",
    "n = 100\n",
    "# Update n times.\n",
    "for i in range(0, n):\n",
    "    # Make a random draw from our true coin B.\n",
    "    x = bernoulli.rvs(pH_B)\n",
    "\n",
    "    # Perform Bayes update.\n",
    "    prA, prB, prC = bayes_update_discrete(prA, prB, prC, x)\n",
    "    \n",
    "# Posterior moves towards 1 for hypothesis B, which is the correct hypothesis.\n",
    "print(f\"A: {prA:.2f}\\nB: {prB:.2f}\\nC: {prC:.2f}\")"
   ]
  },
  {
   "cell_type": "markdown",
   "metadata": {},
   "source": [
    "## Continuous Priors\n",
    "\n",
    "We have a coin with unknown probability of heads $\\theta$. This parameter is itself a random variable $\\Theta$, with values $\\theta$. We can initially suppose that $\\Theta$ has a uniform probability distribution of $f(\\theta) = 1$ over the range [0, 1]."
   ]
  },
  {
   "cell_type": "code",
   "execution_count": 211,
   "metadata": {},
   "outputs": [
    {
     "data": {
      "image/png": "[encoded data removed]",
      "text/plain": [
       "<Figure size 432x288 with 1 Axes>"
      ]
     },
     "metadata": {
      "needs_background": "light"
     },
     "output_type": "display_data"
    }
   ],
   "source": [
    "# Plot PDF.\n",
    "x = np.linspace(0, 1, 100)\n",
    "plt.plot(x, np.ones(len(x)))\n",
    "plt.title(\"PDF(theta)\")\n",
    "plt.show()"
   ]
  },
  {
   "cell_type": "code",
   "execution_count": 212,
   "metadata": {},
   "outputs": [],
   "source": [
    "def truncated_normal(mean=0, sd=1, low=0, upp=1):\n",
    "    \"\"\"Draws a value from the normal distribution truncated to the specified range.\n",
    "    \"\"\"\n",
    "    return truncnorm((low - mean) / sd, (upp - mean) / sd, loc=mean, scale=sd)"
   ]
  },
  {
   "cell_type": "code",
   "execution_count": 213,
   "metadata": {},
   "outputs": [
    {
     "data": {
      "text/plain": [
       "0.16546305924217014"
      ]
     },
     "execution_count": 213,
     "metadata": {},
     "output_type": "execute_result"
    }
   ],
   "source": [
    "# Theta actually follows a normal distribution. Let's pull our value from that.\n",
    "# theta = truncated_normal(0.5, 1, 0, 1).rvs()\n",
    "theta = 0.16546305924217014\n",
    "theta "
   ]
  },
  {
   "cell_type": "markdown",
   "metadata": {},
   "source": [
    "### Prior\n",
    "\n",
    "Our prior is $P(\\Theta = \\theta) = f(\\theta)d\\theta = d\\theta$. Integrating over the range [0, 1], we get the total probability for all hypotheses, which equals 1 as expected."
   ]
  },
  {
   "cell_type": "code",
   "execution_count": 182,
   "metadata": {},
   "outputs": [
    {
     "data": {
      "text/plain": [
       "0"
      ]
     },
     "execution_count": 182,
     "metadata": {},
     "output_type": "execute_result"
    }
   ],
   "source": [
    "# Draw heads or tails.\n",
    "x = bernoulli(theta).rvs()\n",
    "x"
   ]
  },
  {
   "cell_type": "markdown",
   "metadata": {},
   "source": [
    "### Likelihood\n",
    "\n",
    "Our likelihood is the probability of seeing the data given our continous hypothesis theta. We got tails, so $x = 0$ and our $p(x = 0 | \\theta) = 1 - \\theta$."
   ]
  },
  {
   "cell_type": "markdown",
   "metadata": {},
   "source": [
    "### Bayes numerator\n",
    "\n",
    "The Bayes numerator is the product of the prior and likelihood. We get $(1 - \\theta)d\\theta$."
   ]
  },
  {
   "cell_type": "markdown",
   "metadata": {},
   "source": [
    "### Total law of probability\n",
    "\n",
    "To get the total probability $P(x = 0)$, we calculate $\\int_0^1p(x = 0 | \\theta)f(\\theta)d\\theta = \\int_0^1(1 - \\theta)d\\theta = \\theta - \\frac{1}{2}\\theta^2\\Big|_0^1 = \\frac{1}{2}$."
   ]
  },
  {
   "cell_type": "markdown",
   "metadata": {},
   "source": [
    "### Posterior\n",
    "\n",
    "The posterior is simply the Bayes numerator divided by the total probability. $f(\\theta | x) = 2(1 - \\theta)d\\theta$."
   ]
  },
  {
   "cell_type": "code",
   "execution_count": 214,
   "metadata": {},
   "outputs": [
    {
     "data": {
      "image/png": "[encoded data removed]",
      "text/plain": [
       "<Figure size 432x288 with 1 Axes>"
      ]
     },
     "metadata": {
      "needs_background": "light"
     },
     "output_type": "display_data"
    }
   ],
   "source": [
    "# Our current PDF for theta.\n",
    "pdf_theta = lambda x: 2 * (1 - x)\n",
    "\n",
    "# Plot PDF.\n",
    "x = np.linspace(0, 1, 100)\n",
    "plt.plot(x, pdf_theta(x))\n",
    "plt.title(\"PDF(theta)\")\n",
    "plt.show()"
   ]
  },
  {
   "cell_type": "markdown",
   "metadata": {},
   "source": [
    "### Update again..."
   ]
  },
  {
   "cell_type": "code",
   "execution_count": 183,
   "metadata": {},
   "outputs": [
    {
     "data": {
      "text/plain": [
       "0"
      ]
     },
     "execution_count": 183,
     "metadata": {},
     "output_type": "execute_result"
    }
   ],
   "source": [
    "# Draw heads or tails.\n",
    "x = bernoulli(theta).rvs()\n",
    "x"
   ]
  },
  {
   "cell_type": "markdown",
   "metadata": {},
   "source": [
    "- **Prior**: $P(\\theta) = 2(1 - \\theta)d\\theta$\n",
    "- **Likelihood**: $P(x = 0 | \\theta) = 1 - \\theta$\n",
    "- **Bayes numerator**: $2(1 - \\theta)^2d\\theta$\n",
    "- **Total probability**: $P(x = 0) = \\frac{2}{3}$\n",
    "- **Posterior**: $P(\\theta | x = 0) = 3(1 - \\theta)^2d\\theta$"
   ]
  },
  {
   "cell_type": "code",
   "execution_count": 216,
   "metadata": {},
   "outputs": [
    {
     "data": {
      "image/png": "[encoded data removed]",
      "text/plain": [
       "<Figure size 432x288 with 1 Axes>"
      ]
     },
     "metadata": {
      "needs_background": "light"
     },
     "output_type": "display_data"
    }
   ],
   "source": [
    "# Our current PDF for theta.\n",
    "pdf_theta = lambda x: 3 * (1 - x) ** 2\n",
    "\n",
    "# Plot PDF.\n",
    "x = np.linspace(0, 1, 100)\n",
    "plt.plot(x, pdf_theta(x))\n",
    "plt.title(\"PDF(theta)\")\n",
    "plt.show()"
   ]
  },
  {
   "cell_type": "markdown",
   "metadata": {},
   "source": [
    "### And again..."
   ]
  },
  {
   "cell_type": "code",
   "execution_count": 189,
   "metadata": {},
   "outputs": [
    {
     "data": {
      "text/plain": [
       "1"
      ]
     },
     "execution_count": 189,
     "metadata": {},
     "output_type": "execute_result"
    }
   ],
   "source": [
    "# Draw heads or tails.\n",
    "x = bernoulli(theta).rvs()\n",
    "x"
   ]
  },
  {
   "cell_type": "markdown",
   "metadata": {},
   "source": [
    "- **Prior**: $P(\\theta) = 3(1 - \\theta)^2d\\theta$\n",
    "- **Likelihood**: $P(x = 1 | \\theta) = \\theta$\n",
    "- **Bayes numerator**: $3\\theta(1 - \\theta)^2d\\theta$\n",
    "- **Total probability**: $P(x = 1) = \\frac{1}{4}$\n",
    "- **Posterior**: $P(\\theta | x = 1) = 12\\theta(1 - \\theta)^2d\\theta$"
   ]
  },
  {
   "cell_type": "code",
   "execution_count": 217,
   "metadata": {},
   "outputs": [
    {
     "data": {
      "image/png": "[encoded data removed]",
      "text/plain": [
       "<Figure size 432x288 with 1 Axes>"
      ]
     },
     "metadata": {
      "needs_background": "light"
     },
     "output_type": "display_data"
    }
   ],
   "source": [
    "# Our current PDF for theta.\n",
    "pdf_theta = lambda x: 12 * x * (1 - x) ** 2\n",
    "\n",
    "# Plot PDF.\n",
    "x = np.linspace(0, 1, 100)\n",
    "plt.plot(x, pdf_theta(x))\n",
    "plt.title(\"PDF(theta)\")\n",
    "plt.show()"
   ]
  },
  {
   "cell_type": "code",
   "execution_count": null,
   "metadata": {},
   "outputs": [],
   "source": []
  }
 ],
 "metadata": {
  "kernelspec": {
   "display_name": "Python 3",
   "language": "python",
   "name": "python3"
  },
  "language_info": {
   "codemirror_mode": {
    "name": "ipython",
    "version": 3
   },
   "file_extension": ".py",
   "mimetype": "text/x-python",
   "name": "python",
   "nbconvert_exporter": "python",
   "pygments_lexer": "ipython3",
   "version": "3.6.5"
  }
 },
 "nbformat": 4,
 "nbformat_minor": 2
}
