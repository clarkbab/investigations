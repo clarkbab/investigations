{
 "cells": [
  {
   "cell_type": "code",
   "execution_count": 1,
   "metadata": {},
   "outputs": [],
   "source": [
    "# Import libraries.\n",
    "import numpy as np\n",
    "import matplotlib.pyplot as plt"
   ]
  },
  {
   "cell_type": "code",
   "execution_count": 18,
   "metadata": {},
   "outputs": [],
   "source": [
    "# Pull observations from a linear system with some noise.\n",
    "def obs(n):\n",
    "    # Population values, unknown to us.\n",
    "    b_0 = 2.4\n",
    "    b_1 = 1.3\n",
    "    e_std = 5\n",
    "\n",
    "    # Generate observations with signal and noise.\n",
    "    x = np.random.uniform(0, 10, n)\n",
    "    s = b_0 + b_1 * x\n",
    "    e = np.random.normal(0, e_std, x.shape[0])\n",
    "    y = s + e\n",
    "    \n",
    "    return x, y"
   ]
  },
  {
   "cell_type": "code",
   "execution_count": 24,
   "metadata": {},
   "outputs": [],
   "source": [
    "# Generate 50 observations in the range [0, 10).\n",
    "n_obs = 50\n",
    "x, y = obs(n_obs)"
   ]
  },
  {
   "cell_type": "code",
   "execution_count": 25,
   "metadata": {},
   "outputs": [
    {
     "data": {
      "image/png": "[encoded data removed]",
      "text/plain": [
       "<Figure size 432x288 with 1 Axes>"
      ]
     },
     "metadata": {
      "needs_background": "light"
     },
     "output_type": "display_data"
    }
   ],
   "source": [
    "# Plot the population.\n",
    "plt.scatter(x, y)\n",
    "plt.show()"
   ]
  },
  {
   "cell_type": "markdown",
   "metadata": {},
   "source": [
    "### Least Squares\n",
    "\n",
    "To fit a line to our data, we need some way to measure how wrong our model is. This is called the cost function, and in this instance we'll use the sum of squares.\n",
    "\n",
    "$$C = \\sum_i(y_i - \\hat{y_i})^2$$\n",
    "\n",
    "where y_i is the y value for an individual measurement and $\\hat{y_i}$ is the estimate our model gives for the y value for an individual measurement.\n",
    "\n",
    "Minimising the sum of least squares gives, whilst holding the x, y values constant gives the following formulae to calculate the coefficients:\n",
    "\n",
    "$$\\hat{\\beta_1} = \\frac{\\sum_i{(x_i - \\bar{x})(y_i - \\bar{y})}}{\\sum_i{(x_i - \\bar{x})^2}}$$\n",
    "\n",
    "$$\\hat{\\beta_0} = \\bar{y} - \\hat{\\beta_1}\\bar{x}$$\n",
    "\n",
    "Note that the hat (^) symbol is used over the coefficients to show that these are estimates obtained from a sample. We cannot know the true population values."
   ]
  },
  {
   "cell_type": "code",
   "execution_count": 26,
   "metadata": {},
   "outputs": [],
   "source": [
    "# Using the formulae above to calculate coefficient estimates.\n",
    "def reg_coef(x, y):\n",
    "    x_mean = x.mean()\n",
    "    y_mean = y.mean()\n",
    "    b_1_hat = sum([(xi - x_mean) * (yi - y_mean) for xi, yi in zip(x, y)]) / sum([(xi - x_mean) ** 2 for xi in x])\n",
    "    b_0_hat = y_mean - b_1_hat * x_mean\n",
    "    \n",
    "    return b_0_hat, b_1_hat"
   ]
  },
  {
   "cell_type": "code",
   "execution_count": 27,
   "metadata": {},
   "outputs": [],
   "source": [
    "# Get coefficients.\n",
    "b_0_hat, b_1_hat = reg_coef(x, y)"
   ]
  },
  {
   "cell_type": "code",
   "execution_count": 28,
   "metadata": {},
   "outputs": [
    {
     "data": {
      "image/png": "[encoded data removed]",
      "text/plain": [
       "<Figure size 432x288 with 1 Axes>"
      ]
     },
     "metadata": {
      "needs_background": "light"
     },
     "output_type": "display_data"
    }
   ],
   "source": [
    "# Plot our estimate on the graph with the population line.\n",
    "xp = np.linspace(0, 10, 100)\n",
    "yp = b_0 + b_1 * xp\n",
    "y_hat = b_0_hat + b_1_hat * xp\n",
    "plt.scatter(x, y)\n",
    "plt.plot(xp, yp, color='blue')\n",
    "plt.plot(xp, y_hat, color='red')\n",
    "plt.show()"
   ]
  },
  {
   "cell_type": "markdown",
   "metadata": {},
   "source": [
    "### Sampling\n",
    "\n",
    "For every sample we take, there will be some difference in our estimates of the coefficients. How can we estimate how close we are to the population values?\n",
    "\n",
    "If we take enough samples, the average of the estimates obtained will be equal to the population values. Let's show this by generating 20 samples and plotting the values for the coefficients."
   ]
  },
  {
   "cell_type": "code",
   "execution_count": 58,
   "metadata": {},
   "outputs": [],
   "source": [
    "# Get coefficients for 10000 samples.\n",
    "n_samples = 10000\n",
    "n_obs = 50\n",
    "b_0_hats = np.array([])\n",
    "b_1_hats = np.array([])\n",
    "\n",
    "for i in range(n_samples):\n",
    "    x, y = obs(n_obs)\n",
    "    b_0, b_1 = reg_coef(x, y)\n",
    "    \n",
    "    b_0_hats = np.append(b_0_hats, b_0)\n",
    "    b_1_hats = np.append(b_1_hats, b_1)"
   ]
  },
  {
   "cell_type": "code",
   "execution_count": 59,
   "metadata": {},
   "outputs": [
    {
     "name": "stdout",
     "output_type": "stream",
     "text": [
      "B0 mean: 2.39\n",
      "B1 mean: 1.3\n"
     ]
    }
   ],
   "source": [
    "# Calculate mean coefficients.\n",
    "b_0_hat_mean = b_0_hats.mean()\n",
    "b_1_hat_mean = b_1_hats.mean()\n",
    "\n",
    "print(f\"B0 mean: {b_0_hat_mean:.3}\")\n",
    "print(f\"B1 mean: {b_1_hat_mean:.3}\")"
   ]
  },
  {
   "cell_type": "code",
   "execution_count": 94,
   "metadata": {},
   "outputs": [
    {
     "data": {
      "image/png": "[encoded data removed]",
      "text/plain": [
       "<Figure size 1080x360 with 2 Axes>"
      ]
     },
     "metadata": {
      "needs_background": "light"
     },
     "output_type": "display_data"
    }
   ],
   "source": [
    "# Plot distribution of estimates.\n",
    "f, axes = plt.subplots(1, 2, figsize=(15, 5))\n",
    "axes[0].hist(b_0_hats)\n",
    "axes[0].axvline(x=b_0_hat_mean, color='red')\n",
    "axes[0].set_title('B0 Estimate Distribution')\n",
    "\n",
    "axes[1].hist(b_1_hats)\n",
    "axes[1].axvline(x=b_1_hat_mean, color='red')\n",
    "axes[1].set_title('B1 Estimate Distribution')\n",
    "\n",
    "plt.show()"
   ]
  },
  {
   "cell_type": "markdown",
   "metadata": {},
   "source": [
    "### Sample Distribution\n",
    "\n",
    "We can see that the mean of the sampling distributions are very close to the population values given enough samples. However, we're going to treat the case where we only have one sample and need to determine the likely population value from this sample. To do this we need to know the shape of the sampling distribution for each coefficient. The standard deviation (called standard error) of the sampling distribution for each coefficient can be calculated as:\n",
    "\n",
    "$$\\hat{SE}(\\hat{\\beta_0})^2 = \\sigma^2[\\frac{1}{n} + \\frac{\\bar{x}^2}{\\sum_i(x_i - \\bar{x})^2}]$$\n",
    "\n",
    "$$\\hat{SE}(\\hat{\\beta_1})^2 = \\frac{\\sigma^2}{\\sum_i(x_i - \\bar{x})^2}$$\n",
    "\n",
    "Although it's clearer to write $\\hat{SE}$ as this signifies that this is only an estimate of the population value, this is sometimes just written as $SE$ for simplicity of notation."
   ]
  },
  {
   "cell_type": "code",
   "execution_count": null,
   "metadata": {},
   "outputs": [],
   "source": [
    "# Get SE estimates from initial sample.\n"
   ]
  }
 ],
 "metadata": {
  "kernelspec": {
   "display_name": "Python 3",
   "language": "python",
   "name": "python3"
  },
  "language_info": {
   "codemirror_mode": {
    "name": "ipython",
    "version": 3
   },
   "file_extension": ".py",
   "mimetype": "text/x-python",
   "name": "python",
   "nbconvert_exporter": "python",
   "pygments_lexer": "ipython3",
   "version": "3.7.2"
  }
 },
 "nbformat": 4,
 "nbformat_minor": 2
}
